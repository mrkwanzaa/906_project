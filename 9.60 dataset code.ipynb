{
 "cells": [
  {
   "cell_type": "code",
   "execution_count": 25,
   "metadata": {},
   "outputs": [],
   "source": [
    "import numpy as np\n",
    "from PIL import Image\n",
    "from sklearn.utils import shuffle\n",
    "%matplotlib inline"
   ]
  },
  {
   "cell_type": "code",
   "execution_count": 26,
   "metadata": {},
   "outputs": [],
   "source": [
    "def shuffle_images(name):\n",
    "    filepath = './archive/val/' + name\n",
    "    img = Image.open(filepath)\n",
    "    \n",
    "    # get width and height\n",
    "    width,height = img.size\n",
    "    split_width = int(width / 2) # split into image/solution\n",
    "    nw = 4 # number of tiles to divide width (horizontally)\n",
    "    nh = 4 # number of tiles to divide height (vertically)\n",
    "    tile_width = split_width/nw\n",
    "    tile_height = height/nh\n",
    "\n",
    "    img_tiles = []\n",
    "    sol_tiles = []\n",
    "    for side in range(2):\n",
    "        width_offset = side * split_width\n",
    "        tiles = img_tiles if side == 0 else sol_tiles\n",
    "        for i in range(nw):\n",
    "            for j in range(nh):\n",
    "                left = tile_width*i + width_offset\n",
    "                right = tile_width*(i+1) + width_offset\n",
    "                top =  tile_height*j\n",
    "                bottom = tile_height*(j+1)\n",
    "                \n",
    "                im1 = img.crop((left, top, right, bottom))\n",
    "                tiles.append(im1)\n",
    "\n",
    "    imgs_shuffled, sol_shuffled = shuffle(img_tiles, sol_tiles)\n",
    "\n",
    "    sol_output = Image.new('RGB', (split_width, height))\n",
    "    img_output = Image.new('RGB', (split_width, height))\n",
    "\n",
    "    for side in range(2):\n",
    "        tiles = imgs_shuffled if side == 0 else sol_shuffled\n",
    "        output = img_output if side == 0 else sol_output\n",
    "        idx = 0 # index tiles\n",
    "        for i in range(nw):\n",
    "            for j in range(nh):\n",
    "                width_paste = int(tile_width*i)\n",
    "                height_paste = int(tile_height*j)\n",
    "                output.paste(tiles[idx], (width_paste, height_paste))\n",
    "                idx += 1\n",
    "\n",
    "    img_output.save('./outputs/' + name)\n",
    "    sol_output.save('./outputs/sol_' + name)\n",
    "    "
   ]
  },
  {
   "cell_type": "code",
   "execution_count": 27,
   "metadata": {},
   "outputs": [],
   "source": [
    "for i in range(1, 501):\n",
    "    shuffle_images(str(i) + '.jpg')"
   ]
  }
 ],
 "metadata": {
  "kernelspec": {
   "display_name": "Python 3.10 (ipykernel)",
   "language": "python",
   "name": "python3"
  },
  "language_info": {
   "codemirror_mode": {
    "name": "ipython",
    "version": 3
   },
   "file_extension": ".py",
   "mimetype": "text/x-python",
   "name": "python",
   "nbconvert_exporter": "python",
   "pygments_lexer": "ipython3",
   "version": "3.9.12"
  },
  "orig_nbformat": 4
 },
 "nbformat": 4,
 "nbformat_minor": 2
}
