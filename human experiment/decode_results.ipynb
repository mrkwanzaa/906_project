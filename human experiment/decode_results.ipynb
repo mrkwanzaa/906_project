{
 "cells": [
  {
   "cell_type": "code",
   "execution_count": 59,
   "metadata": {},
   "outputs": [],
   "source": [
    "import json\n",
    "import base64\n",
    "from os import listdir\n",
    "from os.path import isfile, join\n"
   ]
  },
  {
   "cell_type": "code",
   "execution_count": 62,
   "metadata": {},
   "outputs": [],
   "source": [
    "def decode_images(filename, output):\n",
    "    # Load json file\n",
    "    f = open( filename , \"rb\" )\n",
    "    jsonObject = json.load(f)\n",
    "    f.close()\n",
    "\n",
    "    for idx, object in enumerate(jsonObject[1:-1]):\n",
    "        g = open(f'../human_results/decoded/{output}_{idx}.png', \"wb\")\n",
    "        g.write(base64.b64decode(object['png'][22:]))\n",
    "        g.close()"
   ]
  },
  {
   "cell_type": "code",
   "execution_count": 63,
   "metadata": {},
   "outputs": [],
   "source": [
    "for file in listdir('../human_results/'):\n",
    "    if(isfile(join('../human_results/', file))):\n",
    "        decode_images(join('../human_results/', file), file[0:-5])"
   ]
  },
  {
   "attachments": {},
   "cell_type": "markdown",
   "metadata": {},
   "source": [
    "1 - Not done correctly (includes not highlighted at all, up to at most half correct)\n",
    "2 - Somewhat correct (around 1/2 up to all correctly highlighted with a few false highlights)\n",
    "3 - Mostly correct (Highlights object mostly correctly in all squares, max 1 small mistake)"
   ]
  }
 ],
 "metadata": {
  "kernelspec": {
   "display_name": "base",
   "language": "python",
   "name": "python3"
  },
  "language_info": {
   "codemirror_mode": {
    "name": "ipython",
    "version": 3
   },
   "file_extension": ".py",
   "mimetype": "text/x-python",
   "name": "python",
   "nbconvert_exporter": "python",
   "pygments_lexer": "ipython3",
   "version": "3.9.12"
  },
  "orig_nbformat": 4
 },
 "nbformat": 4,
 "nbformat_minor": 2
}
